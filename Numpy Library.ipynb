{
 "cells": [
  {
   "cell_type": "markdown",
   "id": "6b51a29c-8a96-4c44-8e16-f81df6f3ab53",
   "metadata": {},
   "source": [
    "### Numpy Library:-\n",
    "Numpy is a Python Library used for working with arrays.\n",
    "It also has functions for working on domain of linear algebra, fourier transform, and matrices etc.\n",
    "Numpy stand for Numerical Python."
   ]
  },
  {
   "cell_type": "code",
   "execution_count": 1,
   "id": "b6bf1b92-8528-4727-9bbc-692bddf6b2fa",
   "metadata": {},
   "outputs": [
    {
     "name": "stdout",
     "output_type": "stream",
     "text": [
      "[1 2 3 4]\n"
     ]
    }
   ],
   "source": [
    "import numpy\n",
    "arr = numpy.array([1, 2, 3, 4])\n",
    "print(arr)"
   ]
  },
  {
   "cell_type": "code",
   "execution_count": 2,
   "id": "4aa46a00-1f9a-4d4e-a6ec-c764a4c00242",
   "metadata": {},
   "outputs": [
    {
     "name": "stdout",
     "output_type": "stream",
     "text": [
      "[4 5 6 7]\n"
     ]
    }
   ],
   "source": [
    "import numpy as np\n",
    "arr1 = np.array([4, 5, 6, 7])\n",
    "print(arr1)"
   ]
  },
  {
   "cell_type": "code",
   "execution_count": 3,
   "id": "8513b71e-395b-4214-97db-c9bf3559f948",
   "metadata": {},
   "outputs": [
    {
     "name": "stdout",
     "output_type": "stream",
     "text": [
      "1.26.4\n"
     ]
    }
   ],
   "source": [
    "# Now, we check its version.\n",
    "print(np.__version__)"
   ]
  },
  {
   "cell_type": "code",
   "execution_count": 4,
   "id": "93bfd3c6-1f97-4995-846b-566678a3da17",
   "metadata": {},
   "outputs": [
    {
     "name": "stdout",
     "output_type": "stream",
     "text": [
      "[32, 42, 53, 23]\n",
      "<class 'list'>\n"
     ]
    }
   ],
   "source": [
    "# Now, we check its type.\n",
    "arr2 = ([32, 42, 53, 23])\n",
    "print(arr2)\n",
    "print(type(arr2))"
   ]
  },
  {
   "cell_type": "markdown",
   "id": "88b79393-75fa-4654-bb5f-9b8ca058b56d",
   "metadata": {},
   "source": [
    "### Dimensions in Arrays:-\n",
    "A dimenstion in arrays is one level of array depth (insted arrays).Nested Arrays: Nested arrays are arrays that have arrays as their elemetns."
   ]
  },
  {
   "cell_type": "code",
   "execution_count": 10,
   "id": "0a07a211-c8a2-4860-97ad-ad018d0d76e7",
   "metadata": {},
   "outputs": [
    {
     "name": "stdout",
     "output_type": "stream",
     "text": [
      "80\n"
     ]
    }
   ],
   "source": [
    "# Create  a 0-D array.\n",
    "arr3 = np.array(80)\n",
    "print(arr3)"
   ]
  },
  {
   "cell_type": "code",
   "execution_count": 11,
   "id": "451afeca-9fb2-44ca-b623-5234978890bc",
   "metadata": {},
   "outputs": [
    {
     "name": "stdout",
     "output_type": "stream",
     "text": [
      "[1 2 3 4]\n"
     ]
    }
   ],
   "source": [
    "# Create a 1-D array.\n",
    "arr4 = np.array([1, 2, 3, 4])\n",
    "print(arr4)"
   ]
  },
  {
   "cell_type": "code",
   "execution_count": 12,
   "id": "a7547511-4d8c-43e0-8019-9e1d229c1bc3",
   "metadata": {},
   "outputs": [
    {
     "name": "stdout",
     "output_type": "stream",
     "text": [
      "[[1 2 3 4]\n",
      " [5 6 7 8]]\n"
     ]
    }
   ],
   "source": [
    "# Create a 2-D array.\n",
    "arr5 = np.array([[1, 2, 3, 4], [5, 6, 7, 8]])\n",
    "print(arr5)"
   ]
  },
  {
   "cell_type": "code",
   "execution_count": 15,
   "id": "888a97b5-aa24-46fa-afd9-3960b72522cb",
   "metadata": {},
   "outputs": [
    {
     "name": "stdout",
     "output_type": "stream",
     "text": [
      "[[[ 9 10 11 12]\n",
      "  [13 14 15 16]]\n",
      "\n",
      " [[17 18 19 20]\n",
      "  [21 22 23 24]]]\n"
     ]
    }
   ],
   "source": [
    "# Create a 3-D array.\n",
    "arr6 = np.array([[[9, 10, 11, 12], [13, 14, 15, 16]], [[17, 18, 19, 20], [21, 22, 23, 24]]])\n",
    "print(arr6)"
   ]
  },
  {
   "cell_type": "code",
   "execution_count": 16,
   "id": "7bb00e48-2447-40c9-b59a-d76d8d472c23",
   "metadata": {},
   "outputs": [
    {
     "name": "stdout",
     "output_type": "stream",
     "text": [
      "3\n"
     ]
    }
   ],
   "source": [
    "# We can check the dimentions of arrays.\n",
    "arr7 = np.array([[[9, 10, 11, 12], [13, 14, 15, 16]], [[17, 18, 19, 20], [21, 22, 23, 24]]])\n",
    "print(arr7.ndim)"
   ]
  },
  {
   "cell_type": "code",
   "execution_count": 17,
   "id": "e5e5ad59-fb0e-432c-ba13-8dca23e54a56",
   "metadata": {},
   "outputs": [
    {
     "name": "stdout",
     "output_type": "stream",
     "text": [
      "0\n"
     ]
    }
   ],
   "source": [
    "arr8 = np.array(30) # it means this is zero dimention array.\n",
    "print(arr8.ndim)"
   ]
  },
  {
   "cell_type": "code",
   "execution_count": 18,
   "id": "94e52c54-9943-444b-989e-c400b8cf619c",
   "metadata": {},
   "outputs": [
    {
     "name": "stdout",
     "output_type": "stream",
     "text": [
      "1\n"
     ]
    }
   ],
   "source": [
    "arr9 = np.array([48, 29]) # 01 dimention array.\n",
    "print(arr9.ndim)"
   ]
  },
  {
   "cell_type": "markdown",
   "id": "57ddc03c-f821-4d6b-a331-e245de712875",
   "metadata": {},
   "source": [
    "### Hence, We can say that, array ma jetni suqare brackets ho ge otni he oski dimentions ho ge."
   ]
  },
  {
   "cell_type": "markdown",
   "id": "bfde300f-648e-4889-8642-66895ef0c5bf",
   "metadata": {},
   "source": [
    "### Higher Dimentional Arrays:-\n",
    "An array can have any number of dimentions. When the array is created, you can define the number of dimentions by using the ndmin argument."
   ]
  },
  {
   "cell_type": "code",
   "execution_count": 21,
   "id": "bef8c339-b1d9-4899-a185-98baeb478296",
   "metadata": {},
   "outputs": [
    {
     "name": "stdout",
     "output_type": "stream",
     "text": [
      "[[[[[[[[[[25 26 27 28]]]]]]]]]]\n",
      "10\n"
     ]
    }
   ],
   "source": [
    "# Create 10 Dimention Array.\n",
    "arr10 = np.array([25, 26, 27, 28], ndmin = 10)\n",
    "print(arr10)\n",
    "# Now we can verify its dimentions as:\n",
    "print(arr10.ndim)"
   ]
  },
  {
   "cell_type": "markdown",
   "id": "bcf38dc3-6346-4e3d-9bd8-8edde87023fc",
   "metadata": {},
   "source": [
    "### Access Array Elements:-\n",
    "We can access the array element by its index number."
   ]
  },
  {
   "cell_type": "code",
   "execution_count": 23,
   "id": "ae48e680-3f82-4705-aa19-cef1b6eba7de",
   "metadata": {},
   "outputs": [
    {
     "name": "stdout",
     "output_type": "stream",
     "text": [
      "29\n"
     ]
    }
   ],
   "source": [
    "arr11 = np.array([29, 30, 31, 32])\n",
    "print(arr11[0]) # here we access its first element. it means that indexing starts with zero (0)."
   ]
  },
  {
   "cell_type": "code",
   "execution_count": 25,
   "id": "e486e331-92d5-469a-9549-afe3fca224c8",
   "metadata": {},
   "outputs": [
    {
     "name": "stdout",
     "output_type": "stream",
     "text": [
      "35\n"
     ]
    }
   ],
   "source": [
    "# example to access the element in an array.\n",
    "arr11 = np.array([33, 34, 35, 36])\n",
    "print(arr11[2])"
   ]
  },
  {
   "cell_type": "code",
   "execution_count": 31,
   "id": "0dd02240-7b33-42f3-8726-cb0767ae0ec3",
   "metadata": {},
   "outputs": [
    {
     "name": "stdout",
     "output_type": "stream",
     "text": [
      "38\n"
     ]
    }
   ],
   "source": [
    "# Access the element on the first row, second column.\n",
    "arr12 = np.array([[37, 38, 39, 40], [41, 42, 43, 44]])\n",
    "print(arr12[0][1])"
   ]
  },
  {
   "cell_type": "code",
   "execution_count": 34,
   "id": "efc7a6bf-46e9-4f97-b684-ba6ee170a6d5",
   "metadata": {},
   "outputs": [
    {
     "name": "stdout",
     "output_type": "stream",
     "text": [
      "52\n"
     ]
    }
   ],
   "source": [
    "# Access the element on the second row, fourth column.\n",
    "arr13 = np.array([[45, 46, 47, 48], [49, 50, 51, 52]])\n",
    "print(arr13[1][3])"
   ]
  },
  {
   "cell_type": "markdown",
   "id": "9c324184-ea8c-4e0c-92c0-4b02a5dfbe0a",
   "metadata": {},
   "source": [
    "### We can add and also take square of elements in the array."
   ]
  },
  {
   "cell_type": "code",
   "execution_count": 37,
   "id": "38fe9550-8d05-4681-a6b7-3a8aca6d7698",
   "metadata": {},
   "outputs": [
    {
     "name": "stdout",
     "output_type": "stream",
     "text": [
      "6\n",
      "1.7320508075688772\n",
      "9\n"
     ]
    }
   ],
   "source": [
    "# Add\n",
    "arr14 = ([1, 2, 3, 4])\n",
    "print(arr14[1] + arr14[3])\n",
    "arr15 = arr14[2]\n",
    "arr16 = np.sqrt(arr15)\n",
    "arr17 = arr15**2\n",
    "print(arr16)\n",
    "print(arr17)"
   ]
  },
  {
   "cell_type": "code",
   "execution_count": 41,
   "id": "0ae38cd5-6ff5-4139-a3f9-93ad55ceae17",
   "metadata": {},
   "outputs": [
    {
     "name": "stdout",
     "output_type": "stream",
     "text": [
      "6\n"
     ]
    }
   ],
   "source": [
    "# Only Add\n",
    "arr18 = ([1, 2, 3, 4])\n",
    "print(arr18[1] + arr18[3]) # it means 2 + 4 = 6"
   ]
  },
  {
   "cell_type": "code",
   "execution_count": 3,
   "id": "fd0411f0-af11-45d6-b65d-dba103211470",
   "metadata": {},
   "outputs": [
    {
     "name": "stdout",
     "output_type": "stream",
     "text": [
      "1.4142135623730951\n",
      "4\n"
     ]
    }
   ],
   "source": [
    "import numpy as np\n",
    "# Taking Square Root\n",
    "arr19 = ([1, 2, 3, 4])\n",
    "arr20 = arr19[1]\n",
    "arr21 = np.sqrt(arr20)\n",
    "print(arr21)\n",
    "# now,\n",
    "arr22 = arr20**2\n",
    "print(arr22)"
   ]
  },
  {
   "cell_type": "markdown",
   "id": "6bbf71b9-d46e-49fc-bc06-53c8b1244a0e",
   "metadata": {},
   "source": [
    "### Slicing:-\n",
    "We pass slice instead of index like this: [start:end].\n",
    "We can also define the step, like this: [start:end:step]."
   ]
  },
  {
   "cell_type": "code",
   "execution_count": 6,
   "id": "7c978cf0-2dc1-4031-a27a-dfdee89a2a96",
   "metadata": {},
   "outputs": [
    {
     "name": "stdout",
     "output_type": "stream",
     "text": [
      "[2 3 4 5]\n"
     ]
    }
   ],
   "source": [
    "#Examples:\n",
    "arr23 = np.array([1, 2, 3, 4, 5, 6, 7])\n",
    "print(arr23[1:5]) # Slicing the elements from index 1 to 5."
   ]
  },
  {
   "cell_type": "code",
   "execution_count": 8,
   "id": "ec014edb-2b95-4e60-a22c-e1b865d2b67b",
   "metadata": {},
   "outputs": [
    {
     "name": "stdout",
     "output_type": "stream",
     "text": [
      "[17 18]\n"
     ]
    }
   ],
   "source": [
    "# 2-D Array Example.\n",
    "# From the second row, slice elements from index 1 to index 4 (In slicing last one index is not included).\n",
    "arr24 = np.array([[11, 12, 13, 14, 15], [16, 17, 18, 19, 20]])\n",
    "print(arr24[1, 1:4]) "
   ]
  },
  {
   "cell_type": "code",
   "execution_count": 17,
   "id": "b9d020b7-3ca0-44fd-a928-6f61cd3d50d7",
   "metadata": {},
   "outputs": [
    {
     "name": "stdout",
     "output_type": "stream",
     "text": [
      "12\n",
      "3\n"
     ]
    }
   ],
   "source": [
    "# 3-D Array Example.\n",
    "arr25 = np.array([[[1, 2, 3, 4], [5, 6, 7, 8]], [[9, 10, 11, 12], [13, 14, 15, 16]]])\n",
    "print(arr25[1][0][3])\n",
    "print(arr25.ndim)"
   ]
  },
  {
   "cell_type": "markdown",
   "id": "34945441-1b91-46cc-9636-81c6f4c04526",
   "metadata": {},
   "source": [
    "### Data Types in NumPy.\n",
    "Checking the Data Type of an Array. \n",
    "The NumPy array object has a property\r\n",
    "called dtype that returns the data typ \r\n",
    "of the ar.ray"
   ]
  },
  {
   "cell_type": "code",
   "execution_count": 18,
   "id": "afdaf805-5830-4623-b3b2-bc6fb49ad279",
   "metadata": {},
   "outputs": [
    {
     "name": "stdout",
     "output_type": "stream",
     "text": [
      "[b'1' b'2' b'3' b'4']\n",
      "|S1\n"
     ]
    }
   ],
   "source": [
    "arr = np.array([1, 2, 3, 4], dtype='S')\n",
    "print(arr)\n",
    "print(arr.dtype)"
   ]
  },
  {
   "cell_type": "code",
   "execution_count": 19,
   "id": "5d89c10c-dfe6-4793-9a7e-0210594441bf",
   "metadata": {},
   "outputs": [
    {
     "name": "stdout",
     "output_type": "stream",
     "text": [
      "[[[ 1  2  3  4]\n",
      "  [ 5  6  7  8]]\n",
      "\n",
      " [[ 9 10 11 12]\n",
      "  [13 14 15 16]]]\n",
      "int32\n"
     ]
    }
   ],
   "source": [
    "arr1 = np.array([[[1, 2, 3, 4], [5, 6, 7, 8]], [[9, 10, 11, 12], [13, 14, 15, 16]]])\n",
    "print(arr1)\n",
    "print(arr1.dtype)"
   ]
  },
  {
   "cell_type": "markdown",
   "id": "94e1b80d-3151-406f-b2ef-8b81d00c8484",
   "metadata": {},
   "source": [
    "### Change Data Type:"
   ]
  },
  {
   "cell_type": "code",
   "execution_count": 26,
   "id": "fddd7692-eb4e-4618-b0d6-6c8b7f933808",
   "metadata": {},
   "outputs": [
    {
     "name": "stdout",
     "output_type": "stream",
     "text": [
      "[1 2 3]\n",
      "int32\n"
     ]
    }
   ],
   "source": [
    "# Change data type from float to integer by using 'i' as parameter value:\n",
    "arr = np.array([1.1, 2.1, 3.1])\n",
    "newarr = arr.astype('i')\n",
    "print(newarr)\n",
    "print(newarr.dtype)"
   ]
  },
  {
   "cell_type": "markdown",
   "id": "0177a469-a02b-42bc-b78c-e2e44bb96a76",
   "metadata": {},
   "source": [
    "### Shape of an Array:\n",
    "The shape of an array is the number of elements in each dimension."
   ]
  },
  {
   "cell_type": "code",
   "execution_count": 39,
   "id": "88b8373a-0d9f-4508-b801-b4c158878989",
   "metadata": {},
   "outputs": [
    {
     "name": "stdout",
     "output_type": "stream",
     "text": [
      "(2, 4)\n",
      "2\n"
     ]
    }
   ],
   "source": [
    "# Example: 2-D Array\n",
    "arr = np.array([[1, 2, 3, 4], [5, 6, 7, 8]]) # here, 2 rows and 4 column.\n",
    "print(arr.shape) \n",
    "print(arr.ndim)"
   ]
  },
  {
   "cell_type": "markdown",
   "id": "f14d6925-f684-47e8-8631-d8335000d528",
   "metadata": {},
   "source": [
    "### Re-Shape of an Array:"
   ]
  },
  {
   "cell_type": "code",
   "execution_count": 44,
   "id": "26bddc26-2b47-425d-9fe9-db38f4af0b55",
   "metadata": {},
   "outputs": [
    {
     "name": "stdout",
     "output_type": "stream",
     "text": [
      "[ 1  2  3  4  5  6  7  8  9 10 11 12]\n",
      "[[ 1  2  3  4  5  6]\n",
      " [ 7  8  9 10 11 12]]\n",
      "1\n"
     ]
    }
   ],
   "source": [
    "A = np.array([1,2,3,4,5,6,7,8,9,10,11,12])\n",
    "print(A)\n",
    "new_A = A.reshape(2,6) # It means 2 rows and 6 columns.\n",
    "print(new_A)\n",
    "print(A.ndim)"
   ]
  },
  {
   "cell_type": "markdown",
   "id": "7e420767-5f7c-4b6b-b9b8-5b9437987508",
   "metadata": {},
   "source": [
    "A = np.array([1,2,3,4,5,6,7,8,9,10,11,12])\n",
    "print(A)\n",
    "new_A = A.reshape(3,4) # It means 3 rows and 4 columns.\n",
    "print(new_A)\n",
    "print(A.ndim)"
   ]
  },
  {
   "cell_type": "markdown",
   "id": "f0c0d235-a325-4b18-a9a1-0e1dcd215dac",
   "metadata": {},
   "source": [
    "### Copy & View:-\n",
    "Copy ma kisi ak array ko copy krty hn or new ma save krty hn.\n",
    "View ma hum original array ko print krty hn."
   ]
  },
  {
   "cell_type": "code",
   "execution_count": 47,
   "id": "8b978d17-daa7-4db7-9d6e-568fb351484c",
   "metadata": {},
   "outputs": [
    {
     "name": "stdout",
     "output_type": "stream",
     "text": [
      "[10 12 13 14 15 16 17 18]\n",
      "[10, 12, 13, 14, 15, 16, 17, 18]\n"
     ]
    }
   ],
   "source": [
    "arr = np.array([10,12,13,14,15,16,17,18]) \n",
    "print(arr.reshape(2,4).base) #View\n",
    "B = ([10,12,13,14,15,16,17,18]) \n",
    "print(B) #Copy"
   ]
  },
  {
   "cell_type": "markdown",
   "id": "583b59c6-ad36-4d52-9321-e260fd34106e",
   "metadata": {},
   "source": [
    "### Iteration:-\n",
    "In Iteration we use For loop."
   ]
  },
  {
   "cell_type": "code",
   "execution_count": 50,
   "id": "86fea7a7-1cf4-4563-bc40-a5353241fa34",
   "metadata": {},
   "outputs": [
    {
     "name": "stdout",
     "output_type": "stream",
     "text": [
      "1\n",
      "2\n",
      "3\n",
      "4\n"
     ]
    }
   ],
   "source": [
    "C = np.array([1,2,3,4])\n",
    "for x in C:\n",
    "    print(x)"
   ]
  },
  {
   "cell_type": "markdown",
   "id": "275651a3-a281-4ebd-a4db-8e0291d74c26",
   "metadata": {},
   "source": [
    "### Structure Querry Language (SQL):"
   ]
  },
  {
   "cell_type": "code",
   "execution_count": 51,
   "id": "d22b6f7e-37f9-43b0-b49a-a05df390f76a",
   "metadata": {},
   "outputs": [
    {
     "name": "stdout",
     "output_type": "stream",
     "text": [
      "[[10 12 15 16]\n",
      " [13 14 17 18]]\n"
     ]
    }
   ],
   "source": [
    "arr1 = np.array([[10, 12], [13, 14]])\n",
    "arr2 = np.array([[15, 16], [17, 18]])\n",
    "arr = np.concatenate((arr1, arr2), axis=1)\n",
    "print(arr)"
   ]
  },
  {
   "cell_type": "code",
   "execution_count": 52,
   "id": "e67f5721-0f79-4cbb-a1bc-8f656f056e1f",
   "metadata": {},
   "outputs": [
    {
     "name": "stdout",
     "output_type": "stream",
     "text": [
      "[[1 2 5 6]\n",
      " [3 4 7 8]]\n"
     ]
    }
   ],
   "source": [
    "arr1 = np.array([[1, 2], [3, 4]])\n",
    "arr2 = np.array([[5, 6], [7, 8]])\n",
    "arr = np.concatenate((arr1, arr2), axis=1)\n",
    "print(arr)"
   ]
  },
  {
   "cell_type": "markdown",
   "id": "6bf47e82-8532-4fa5-9721-bf9fe570ac33",
   "metadata": {},
   "source": [
    "### Split Arrays."
   ]
  },
  {
   "cell_type": "code",
   "execution_count": 53,
   "id": "caebdbe5-1567-428d-9c83-e8872cd4edaa",
   "metadata": {},
   "outputs": [
    {
     "name": "stdout",
     "output_type": "stream",
     "text": [
      "[array([[1, 2],\n",
      "       [3, 4],\n",
      "       [5, 6],\n",
      "       [7, 8]])]\n",
      "int32\n"
     ]
    }
   ],
   "source": [
    "arr = np.array([[1, 2], [3, 4], [5, 6], [7, 8]])\n",
    "newarr = np.array_split(arr,1.8)\n",
    "print(newarr)\n",
    "print(arr.dtype)"
   ]
  },
  {
   "cell_type": "markdown",
   "id": "f00c5c83-d07f-4015-a794-7738f9b7c7a4",
   "metadata": {},
   "source": [
    "### Searching Arrays:- \n",
    "We use the word \"where\" when we searching in numpy."
   ]
  },
  {
   "cell_type": "code",
   "execution_count": 54,
   "id": "21068cf9-af06-4ea7-a419-b3e0e473e61f",
   "metadata": {},
   "outputs": [
    {
     "name": "stdout",
     "output_type": "stream",
     "text": [
      "(array([1, 3, 5, 7], dtype=int64),)\n"
     ]
    }
   ],
   "source": [
    "J = np.array ([1, 2, 3, 4, 5, 6, 7, 8, 9])\n",
    "k = np.where(J%2==0)\n",
    "print(k)"
   ]
  },
  {
   "cell_type": "markdown",
   "id": "bec0e87d-28e0-4314-9f04-53b122bcd3c2",
   "metadata": {},
   "source": [
    "### Filtering:- \n",
    "By using Boolean indices (Jo chz hmary pass True ho ge osko output ma dy ga)."
   ]
  },
  {
   "cell_type": "code",
   "execution_count": 55,
   "id": "d424053c-8d4e-4c23-aa0e-d2bc096ee73d",
   "metadata": {},
   "outputs": [
    {
     "name": "stdout",
     "output_type": "stream",
     "text": [
      "[2 4 6]\n"
     ]
    }
   ],
   "source": [
    "K = np.array([1, 2, 3, 4, 5, 6, 7])\n",
    "x = [False, True, False, True, False, True, False]\n",
    "L = K[x]\n",
    "print(L)"
   ]
  },
  {
   "cell_type": "code",
   "execution_count": null,
   "id": "7f682b46-5609-4f1e-b062-52cb5da70911",
   "metadata": {},
   "outputs": [],
   "source": []
  }
 ],
 "metadata": {
  "kernelspec": {
   "display_name": "Python 3 (ipykernel)",
   "language": "python",
   "name": "python3"
  },
  "language_info": {
   "codemirror_mode": {
    "name": "ipython",
    "version": 3
   },
   "file_extension": ".py",
   "mimetype": "text/x-python",
   "name": "python",
   "nbconvert_exporter": "python",
   "pygments_lexer": "ipython3",
   "version": "3.12.4"
  }
 },
 "nbformat": 4,
 "nbformat_minor": 5
}
